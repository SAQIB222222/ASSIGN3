{
 "cells": [
  {
   "cell_type": "markdown",
   "id": "5512d59b-c94d-43cf-bbc0-84292ec22864",
   "metadata": {},
   "source": [
    "Q1"
   ]
  },
  {
   "cell_type": "markdown",
   "id": "a2f8f8ca-eeb1-4d39-bbaa-b479b8c0b8b2",
   "metadata": {},
   "source": [
    "API stands for Application Programming Interface. It is a set of protocols and standards used for building software applications. APIs allow different software applications to communicate with each other and exchange data. For example, when you use a mobile app to order food from a restaurant, the app uses an API to communicate with the restaurant's software system to place the order, update its status and provide you with real-time updates. Another example could be the Google Maps API, which allows developers to integrate Google Maps into their own applications."
   ]
  },
  {
   "cell_type": "markdown",
   "id": "daae35dd-ec44-4a4b-a379-962ebba819f9",
   "metadata": {},
   "source": [
    "Q2"
   ]
  },
  {
   "cell_type": "markdown",
   "id": "9703f9ef-a2fa-4b95-9ce4-f2097604e450",
   "metadata": {},
   "source": [
    "Advantages of using API:\n",
    "\n",
    "Simplifies the development process: Developers can use pre-built code and functionality, reducing the amount of time and effort required to create an application.\n",
    "Encourages collaboration: APIs allow different applications to communicate and share data, which can help facilitate collaborations between different organizations.\n",
    "Enhances user experience: APIs can help create a more seamless and integrated experience for users when using multiple applications\n",
    "\n",
    "Disadvantages of using API:\n",
    "\n",
    "Security concerns: APIs can be a potential security risk if they are not designed or implemented properly.\n",
    "Complexity: APIs can be complex to understand and use, especially for non-technical users.\n",
    "Maintenance: APIs need to be updated regularly to keep up with changing technologies and standards, which can require a significant amount of resources."
   ]
  },
  {
   "cell_type": "markdown",
   "id": "c6cb228b-8661-4ba4-8d9e-196edd0e97b5",
   "metadata": {},
   "source": [
    "Q3"
   ]
  },
  {
   "cell_type": "markdown",
   "id": "93a3838b-549c-447d-9ad4-e8d08dc38dfe",
   "metadata": {},
   "source": [
    "A Web API is a type of API that is specifically designed to be accessed through the internet using HTTP (Hypertext Transfer Protocol). Web APIs are typically used to provide access to data or functionality of web applications or web services. In contrast, an API is a general term used for any interface that enables communication between different software applications."
   ]
  },
  {
   "cell_type": "markdown",
   "id": "89414107-53bb-4ad0-9231-14e06571f021",
   "metadata": {},
   "source": [
    "Q4"
   ]
  },
  {
   "cell_type": "markdown",
   "id": "a81ec739-cdd3-4141-8069-f6e926d0812e",
   "metadata": {},
   "source": [
    "REST (Representational State Transfer) and SOAP (Simple Object Access Protocol) are two popular architectural styles used in web services.\n",
    "\n",
    "REST is an architectural style that is used to build web services. REST is based on a client-server model, where the client sends requests to the server to access or manipulate resources. RESTful services use standard HTTP methods (e.g. GET, POST, PUT, DELETE) to perform CRUD (Create, Read, Update, Delete) operations on resources. RESTful services are lightweight, scalable, and simple to implement.\n",
    "\n",
    "SOAP is an XML-based messaging protocol that is used to exchange structured data between web services. SOAP defines a set of rules for message format, message exchange patterns, and the types of data that can be exchanged. SOAP is platform- and language-independent, making it a popular choice for building interoperable web services.\n",
    "\n",
    "Shortcomings of SOAP:\n",
    "\n",
    "Complex: SOAP messages can be large and complex, which can make them difficult to understand and implement.\n",
    "Slow: SOAP messages can be slower due to the large size and additional overhead involved in XML processing.\n",
    "Limited support for web standards: SOAP has limited support for web standards like REST and JSON, which can make it less flexible than other web service architectures."
   ]
  },
  {
   "cell_type": "code",
   "execution_count": null,
   "id": "390f4145-ee81-4f34-8fa0-7fd273510dd4",
   "metadata": {},
   "outputs": [],
   "source": []
  }
 ],
 "metadata": {
  "kernelspec": {
   "display_name": "Python 3 (ipykernel)",
   "language": "python",
   "name": "python3"
  },
  "language_info": {
   "codemirror_mode": {
    "name": "ipython",
    "version": 3
   },
   "file_extension": ".py",
   "mimetype": "text/x-python",
   "name": "python",
   "nbconvert_exporter": "python",
   "pygments_lexer": "ipython3",
   "version": "3.10.8"
  }
 },
 "nbformat": 4,
 "nbformat_minor": 5
}
